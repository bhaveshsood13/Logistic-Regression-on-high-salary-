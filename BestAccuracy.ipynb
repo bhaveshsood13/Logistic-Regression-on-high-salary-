{
 "cells": [
  {
   "cell_type": "code",
   "execution_count": 77,
   "metadata": {},
   "outputs": [],
   "source": [
    "import matplotlib.pyplot as plt\n",
    "import pandas as pd\n",
    "import numpy as np"
   ]
  },
  {
   "cell_type": "code",
   "execution_count": 78,
   "metadata": {},
   "outputs": [],
   "source": [
    "df=pd.read_excel('./Data.xlsx',sheet_name='Sheet1')\n",
    "\n",
    "from sklearn.metrics import classification_report\n",
    "from sklearn.model_selection import train_test_split\n",
    "from sklearn.metrics import confusion_matrix\n",
    "from sklearn.linear_model import LogisticRegression\n",
    "from sklearn import preprocessing\n",
    "from sklearn.metrics import accuracy_score\n",
    "\n",
    "model=LogisticRegression(solver='lbfgs',max_iter=100000)"
   ]
  },
  {
   "cell_type": "code",
   "execution_count": 79,
   "metadata": {},
   "outputs": [],
   "source": [
    "X=df[['conscientiousness','agreeableness','extraversion','nueroticism','openess_to_experience','12percentage','CollegeTier','collegeGPA','CollegeCityTier','English','Logical','Quant','ComputerProgramming','ElectronicsAndSemicon','Domain','ElectricalEngg','CivilEngg','MechanicalEngg']].values\n",
    "\n",
    "X=preprocessing.scale(X)\n",
    "y=df[\"High-Salary\"].values"
   ]
  },
  {
   "cell_type": "code",
   "execution_count": 92,
   "metadata": {},
   "outputs": [
    {
     "name": "stdout",
     "output_type": "stream",
     "text": [
      "Model Score-  0.7426778242677824\n",
      "Accuracy in (%) = 74.26778242677824 %\n",
      "\n",
      "Classification Report\n",
      "\n",
      "                precision    recall  f1-score   support\n",
      "\n",
      "0 - Low Salary       0.73      0.69      0.71       216\n",
      "1- High Salary       0.75      0.79      0.77       262\n",
      "\n",
      "      accuracy                           0.74       478\n",
      "     macro avg       0.74      0.74      0.74       478\n",
      "  weighted avg       0.74      0.74      0.74       478\n",
      "\n"
     ]
    }
   ],
   "source": [
    "\n",
    "\n",
    "X_train, X_test, y_train, y_test = train_test_split(X,y,random_state=11,train_size=0.8806)\n",
    "model.fit(X_train,y_train)\n",
    "print(\"Model Score- \" ,model.score(X_test,y_test))\n",
    "y_predicted=model.predict(X_test)\n",
    "print(\"Accuracy in (%) =\",accuracy_score(y_test,y_predicted)*100,\"%\")\n",
    "print()\n",
    "print(\"Classification Report\")\n",
    "print()\n",
    "labels=[\"0 - Low Salary\",\"1- High Salary\"]\n",
    "print(classification_report(y_test, y_predicted,target_names=labels))"
   ]
  },
  {
   "cell_type": "code",
   "execution_count": 94,
   "metadata": {
    "scrolled": true
   },
   "outputs": [
    {
     "name": "stdout",
     "output_type": "stream",
     "text": [
      "CONFUSION MATRIX\n",
      "\n"
     ]
    },
    {
     "data": {
      "image/png": "[encoded data removed]",
      "text/plain": [
       "<Figure size 576x576 with 1 Axes>"
      ]
     },
     "metadata": {
      "needs_background": "light"
     },
     "output_type": "display_data"
    }
   ],
   "source": [
    "print(\"CONFUSION MATRIX\\n\")\n",
    "cm =confusion_matrix(y_test, model.predict(X_test))\n",
    "\n",
    "fig, ax = plt.subplots(figsize=(8, 8))\n",
    "ax.imshow(cm)\n",
    "ax.grid(False)\n",
    "ax.xaxis.set(ticks=(0, 1), ticklabels=('Predicted 0s', 'Predicted 1s'))\n",
    "ax.yaxis.set(ticks=(0, 1), ticklabels=('Actual 0s', 'Actual 1s'))\n",
    "ax.set_ylim(1.5, -0.5)\n",
    "for i in range(2):\n",
    "    for j in range(2):\n",
    "        ax.text(j, i, cm[i, j], ha='center', va='center', color='red')\n",
    "plt.show()"
   ]
  },
  {
   "cell_type": "code",
   "execution_count": null,
   "metadata": {},
   "outputs": [],
   "source": []
  }
 ],
 "metadata": {
  "kernelspec": {
   "display_name": "Python 3",
   "language": "python",
   "name": "python3"
  },
  "language_info": {
   "codemirror_mode": {
    "name": "ipython",
    "version": 3
   },
   "file_extension": ".py",
   "mimetype": "text/x-python",
   "name": "python",
   "nbconvert_exporter": "python",
   "pygments_lexer": "ipython3",
   "version": "3.7.6"
  }
 },
 "nbformat": 4,
 "nbformat_minor": 4
}
